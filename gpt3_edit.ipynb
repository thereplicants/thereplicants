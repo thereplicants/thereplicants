{
  "nbformat": 4,
  "nbformat_minor": 0,
  "metadata": {
    "colab": {
      "name": "gpt3.ipynb",
      "provenance": [],
      "include_colab_link": true
    },
    "kernelspec": {
      "name": "python3",
      "display_name": "Python 3"
    },
    "language_info": {
      "name": "python"
    }
  },
  "cells": [
    {
      "cell_type": "markdown",
      "metadata": {
        "id": "view-in-github",
        "colab_type": "text"
      },
      "source": [
        "<a href=\"https://colab.research.google.com/github/thereplicants/thereplicants/blob/main/gpt3_edit.ipynb\" target=\"_parent\"><img src=\"https://colab.research.google.com/assets/colab-badge.svg\" alt=\"Open In Colab\"/></a>"
      ]
    },
    {
      "cell_type": "code",
      "metadata": {
        "colab": {
          "base_uri": "https://localhost:8080/"
        },
        "id": "E9chkLJcd226",
        "outputId": "76e9bf24-039d-47ca-a3f6-ee4a047edc8c"
      },
      "source": [
        "!pip install openai"
      ],
      "execution_count": 1,
      "outputs": [
        {
          "output_type": "stream",
          "name": "stdout",
          "text": [
            "Looking in indexes: https://pypi.org/simple, https://us-python.pkg.dev/colab-wheels/public/simple/\n",
            "Collecting openai\n",
            "  Downloading openai-0.26.1.tar.gz (55 kB)\n",
            "\u001b[2K     \u001b[90m━━━━━━━━━━━━━━━━━━━━━━━━━━━━━━━━━━━━━━━━\u001b[0m \u001b[32m55.3/55.3 KB\u001b[0m \u001b[31m2.7 MB/s\u001b[0m eta \u001b[36m0:00:00\u001b[0m\n",
            "\u001b[?25h  Installing build dependencies ... \u001b[?25l\u001b[?25hdone\n",
            "  Getting requirements to build wheel ... \u001b[?25l\u001b[?25hdone\n",
            "  Preparing metadata (pyproject.toml) ... \u001b[?25l\u001b[?25hdone\n",
            "Requirement already satisfied: tqdm in /usr/local/lib/python3.8/dist-packages (from openai) (4.64.1)\n",
            "Requirement already satisfied: requests>=2.20 in /usr/local/lib/python3.8/dist-packages (from openai) (2.25.1)\n",
            "Requirement already satisfied: aiohttp in /usr/local/lib/python3.8/dist-packages (from openai) (3.8.3)\n",
            "Requirement already satisfied: certifi>=2017.4.17 in /usr/local/lib/python3.8/dist-packages (from requests>=2.20->openai) (2022.12.7)\n",
            "Requirement already satisfied: urllib3<1.27,>=1.21.1 in /usr/local/lib/python3.8/dist-packages (from requests>=2.20->openai) (1.24.3)\n",
            "Requirement already satisfied: chardet<5,>=3.0.2 in /usr/local/lib/python3.8/dist-packages (from requests>=2.20->openai) (4.0.0)\n",
            "Requirement already satisfied: idna<3,>=2.5 in /usr/local/lib/python3.8/dist-packages (from requests>=2.20->openai) (2.10)\n",
            "Requirement already satisfied: charset-normalizer<3.0,>=2.0 in /usr/local/lib/python3.8/dist-packages (from aiohttp->openai) (2.1.1)\n",
            "Requirement already satisfied: multidict<7.0,>=4.5 in /usr/local/lib/python3.8/dist-packages (from aiohttp->openai) (6.0.4)\n",
            "Requirement already satisfied: aiosignal>=1.1.2 in /usr/local/lib/python3.8/dist-packages (from aiohttp->openai) (1.3.1)\n",
            "Requirement already satisfied: frozenlist>=1.1.1 in /usr/local/lib/python3.8/dist-packages (from aiohttp->openai) (1.3.3)\n",
            "Requirement already satisfied: attrs>=17.3.0 in /usr/local/lib/python3.8/dist-packages (from aiohttp->openai) (22.2.0)\n",
            "Requirement already satisfied: yarl<2.0,>=1.0 in /usr/local/lib/python3.8/dist-packages (from aiohttp->openai) (1.8.2)\n",
            "Requirement already satisfied: async-timeout<5.0,>=4.0.0a3 in /usr/local/lib/python3.8/dist-packages (from aiohttp->openai) (4.0.2)\n",
            "Building wheels for collected packages: openai\n",
            "  Building wheel for openai (pyproject.toml) ... \u001b[?25l\u001b[?25hdone\n",
            "  Created wheel for openai: filename=openai-0.26.1-py3-none-any.whl size=67316 sha256=7665c3071413904889acc1a87a24e5fc87b8f81a032f432a3905b84eb6dafcfa\n",
            "  Stored in directory: /root/.cache/pip/wheels/2f/9c/55/95d3609ccfc463eeffb96d50c756f1f1899453b85e92021a0a\n",
            "Successfully built openai\n",
            "Installing collected packages: openai\n",
            "Successfully installed openai-0.26.1\n"
          ]
        }
      ]
    },
    {
      "cell_type": "code",
      "metadata": {
        "colab": {
          "base_uri": "https://localhost:8080/"
        },
        "id": "9853RCHId6-2",
        "outputId": "6fac409a-6bb8-4d26-d8fd-fedbd872346c"
      },
      "source": [
        "import json\n",
        "import openai\n",
        "\n",
        "openai.api_key = \"--\"      # API 키 입력\n",
        "response = openai.Completion.create(engine=\"davinci\", prompt=\"This is a test\", max_tokens=5)\n",
        "print(response)     # 응답 확인\n"
      ],
      "execution_count": null,
      "outputs": [
        {
          "output_type": "stream",
          "text": [
            "{\n",
            "  \"choices\": [\n",
            "    {\n",
            "      \"finish_reason\": \"length\",\n",
            "      \"index\": 0,\n",
            "      \"logprobs\": null,\n",
            "      \"text\": \" page. This is a\"\n",
            "    }\n",
            "  ],\n",
            "  \"created\": 1629813768,\n",
            "  \"id\": \"cmpl-3aRIm6q4VjHH6sK7Yr7z6xQXpA9Ql\",\n",
            "  \"model\": \"davinci:2020-05-03\",\n",
            "  \"object\": \"text_completion\"\n",
            "}\n"
          ],
          "name": "stdout"
        }
      ]
    },
    {
      "cell_type": "code",
      "metadata": {
        "colab": {
          "base_uri": "https://localhost:8080/"
        },
        "id": "iMx1rOyUeHQu",
        "outputId": "f933fd62-5637-4f72-ef4e-bbe3af60fe51"
      },
      "source": [
        "!git clone https://github.com/shreyashankar/gpt3-sandbox.git\n"
      ],
      "execution_count": null,
      "outputs": [
        {
          "output_type": "stream",
          "text": [
            "Cloning into 'gpt3-sandbox'...\n",
            "remote: Enumerating objects: 2468, done.\u001b[K\n",
            "remote: Counting objects: 100% (64/64), done.\u001b[K\n",
            "remote: Compressing objects: 100% (63/63), done.\u001b[K\n",
            "remote: Total 2468 (delta 29), reused 6 (delta 1), pack-reused 2404\u001b[K\n",
            "Receiving objects: 100% (2468/2468), 5.47 MiB | 11.51 MiB/s, done.\n",
            "Resolving deltas: 100% (696/696), done.\n"
          ],
          "name": "stdout"
        }
      ]
    },
    {
      "cell_type": "code",
      "metadata": {
        "colab": {
          "base_uri": "https://localhost:8080/"
        },
        "id": "V17RP-mZeKIu",
        "outputId": "7c13c911-392a-428a-ef13-1369b211981b"
      },
      "source": [
        "cd gpt3-sandbox\n"
      ],
      "execution_count": null,
      "outputs": [
        {
          "output_type": "stream",
          "text": [
            "/content/gpt3-sandbox\n"
          ],
          "name": "stdout"
        }
      ]
    },
    {
      "cell_type": "code",
      "metadata": {
        "colab": {
          "base_uri": "https://localhost:8080/"
        },
        "id": "y6YhRsrJeLjV",
        "outputId": "a10b119b-4483-40ed-9944-45084b27ba22"
      },
      "source": [
        "!pip install -r api/requirements.txt\n"
      ],
      "execution_count": null,
      "outputs": [
        {
          "output_type": "stream",
          "text": [
            "Collecting astroid==2.4.2\n",
            "  Downloading astroid-2.4.2-py3-none-any.whl (213 kB)\n",
            "\u001b[K     |████████████████████████████████| 213 kB 7.6 MB/s \n",
            "\u001b[?25hCollecting certifi==2020.6.20\n",
            "  Downloading certifi-2020.6.20-py2.py3-none-any.whl (156 kB)\n",
            "\u001b[K     |████████████████████████████████| 156 kB 75.3 MB/s \n",
            "\u001b[?25hRequirement already satisfied: chardet==3.0.4 in /usr/local/lib/python3.7/dist-packages (from -r api/requirements.txt (line 3)) (3.0.4)\n",
            "Requirement already satisfied: click==7.1.2 in /usr/local/lib/python3.7/dist-packages (from -r api/requirements.txt (line 4)) (7.1.2)\n",
            "Collecting Flask==1.1.2\n",
            "  Downloading Flask-1.1.2-py2.py3-none-any.whl (94 kB)\n",
            "\u001b[K     |████████████████████████████████| 94 kB 2.8 MB/s \n",
            "\u001b[?25hRequirement already satisfied: idna==2.10 in /usr/local/lib/python3.7/dist-packages (from -r api/requirements.txt (line 6)) (2.10)\n",
            "Requirement already satisfied: itsdangerous==1.1.0 in /usr/local/lib/python3.7/dist-packages (from -r api/requirements.txt (line 7)) (1.1.0)\n",
            "Requirement already satisfied: Jinja2==2.11.3 in /usr/local/lib/python3.7/dist-packages (from -r api/requirements.txt (line 8)) (2.11.3)\n",
            "Collecting MarkupSafe==1.1.1\n",
            "  Downloading MarkupSafe-1.1.1-cp37-cp37m-manylinux2010_x86_64.whl (33 kB)\n",
            "Collecting openai==0.2.4\n",
            "  Downloading openai-0.2.4.tar.gz (157 kB)\n",
            "\u001b[K     |████████████████████████████████| 157 kB 73.4 MB/s \n",
            "\u001b[?25hCollecting pylint==2.5.3\n",
            "  Downloading pylint-2.5.3-py3-none-any.whl (324 kB)\n",
            "\u001b[K     |████████████████████████████████| 324 kB 44.2 MB/s \n",
            "\u001b[?25hCollecting python-dotenv==0.14.0\n",
            "  Downloading python_dotenv-0.14.0-py2.py3-none-any.whl (17 kB)\n",
            "Collecting requests==2.24.0\n",
            "  Downloading requests-2.24.0-py2.py3-none-any.whl (61 kB)\n",
            "\u001b[K     |████████████████████████████████| 61 kB 456 kB/s \n",
            "\u001b[?25hRequirement already satisfied: six==1.15.0 in /usr/local/lib/python3.7/dist-packages (from -r api/requirements.txt (line 14)) (1.15.0)\n",
            "Collecting urllib3==1.26.5\n",
            "  Downloading urllib3-1.26.5-py2.py3-none-any.whl (138 kB)\n",
            "\u001b[K     |████████████████████████████████| 138 kB 74.6 MB/s \n",
            "\u001b[?25hRequirement already satisfied: Werkzeug==1.0.1 in /usr/local/lib/python3.7/dist-packages (from -r api/requirements.txt (line 16)) (1.0.1)\n",
            "Collecting typed-ast<1.5,>=1.4.0\n",
            "  Downloading typed_ast-1.4.3-cp37-cp37m-manylinux1_x86_64.whl (743 kB)\n",
            "\u001b[K     |████████████████████████████████| 743 kB 50.5 MB/s \n",
            "\u001b[?25hCollecting lazy-object-proxy==1.4.*\n",
            "  Downloading lazy_object_proxy-1.4.3-cp37-cp37m-manylinux1_x86_64.whl (56 kB)\n",
            "\u001b[K     |████████████████████████████████| 56 kB 4.8 MB/s \n",
            "\u001b[?25hRequirement already satisfied: wrapt~=1.11 in /usr/local/lib/python3.7/dist-packages (from astroid==2.4.2->-r api/requirements.txt (line 1)) (1.12.1)\n",
            "Requirement already satisfied: toml>=0.7.1 in /usr/local/lib/python3.7/dist-packages (from pylint==2.5.3->-r api/requirements.txt (line 11)) (0.10.2)\n",
            "Collecting isort<5,>=4.2.5\n",
            "  Downloading isort-4.3.21-py2.py3-none-any.whl (42 kB)\n",
            "\u001b[K     |████████████████████████████████| 42 kB 1.1 MB/s \n",
            "\u001b[?25hCollecting mccabe<0.7,>=0.6\n",
            "  Downloading mccabe-0.6.1-py2.py3-none-any.whl (8.6 kB)\n",
            "INFO: pip is looking at multiple versions of python-dotenv to determine which version is compatible with other requirements. This could take a while.\n",
            "INFO: pip is looking at multiple versions of pylint to determine which version is compatible with other requirements. This could take a while.\n",
            "INFO: pip is looking at multiple versions of openai to determine which version is compatible with other requirements. This could take a while.\n",
            "INFO: pip is looking at multiple versions of markupsafe to determine which version is compatible with other requirements. This could take a while.\n",
            "INFO: pip is looking at multiple versions of jinja2 to determine which version is compatible with other requirements. This could take a while.\n",
            "Collecting Jinja2==2.11.3\n",
            "  Downloading Jinja2-2.11.3-py2.py3-none-any.whl (125 kB)\n",
            "\u001b[K     |████████████████████████████████| 125 kB 61.1 MB/s \n",
            "\u001b[?25hINFO: pip is looking at multiple versions of itsdangerous to determine which version is compatible with other requirements. This could take a while.\n",
            "Collecting itsdangerous==1.1.0\n",
            "  Downloading itsdangerous-1.1.0-py2.py3-none-any.whl (16 kB)\n",
            "INFO: pip is looking at multiple versions of idna to determine which version is compatible with other requirements. This could take a while.\n",
            "Collecting idna==2.10\n",
            "  Downloading idna-2.10-py2.py3-none-any.whl (58 kB)\n",
            "\u001b[K     |████████████████████████████████| 58 kB 7.5 MB/s \n",
            "\u001b[?25hINFO: pip is looking at multiple versions of python-dotenv to determine which version is compatible with other requirements. This could take a while.\n",
            "INFO: pip is looking at multiple versions of pylint to determine which version is compatible with other requirements. This could take a while.\n",
            "INFO: pip is looking at multiple versions of openai to determine which version is compatible with other requirements. This could take a while.\n",
            "INFO: pip is looking at multiple versions of markupsafe to determine which version is compatible with other requirements. This could take a while.\n",
            "INFO: pip is looking at multiple versions of jinja2 to determine which version is compatible with other requirements. This could take a while.\n",
            "INFO: pip is looking at multiple versions of flask to determine which version is compatible with other requirements. This could take a while.\n",
            "INFO: pip is looking at multiple versions of click to determine which version is compatible with other requirements. This could take a while.\n",
            "Collecting click==7.1.2\n",
            "  Downloading click-7.1.2-py2.py3-none-any.whl (82 kB)\n",
            "\u001b[K     |████████████████████████████████| 82 kB 1.2 MB/s \n",
            "\u001b[?25hINFO: This is taking longer than usual. You might need to provide the dependency resolver with stricter constraints to reduce runtime. If you want to abort this run, you can press Ctrl + C to do so. To improve how pip performs, tell us what happened here: https://pip.pypa.io/surveys/backtracking\n",
            "INFO: This is taking longer than usual. You might need to provide the dependency resolver with stricter constraints to reduce runtime. If you want to abort this run, you can press Ctrl + C to do so. To improve how pip performs, tell us what happened here: https://pip.pypa.io/surveys/backtracking\n",
            "INFO: This is taking longer than usual. You might need to provide the dependency resolver with stricter constraints to reduce runtime. If you want to abort this run, you can press Ctrl + C to do so. To improve how pip performs, tell us what happened here: https://pip.pypa.io/surveys/backtracking\n",
            "INFO: This is taking longer than usual. You might need to provide the dependency resolver with stricter constraints to reduce runtime. If you want to abort this run, you can press Ctrl + C to do so. To improve how pip performs, tell us what happened here: https://pip.pypa.io/surveys/backtracking\n",
            "INFO: This is taking longer than usual. You might need to provide the dependency resolver with stricter constraints to reduce runtime. If you want to abort this run, you can press Ctrl + C to do so. To improve how pip performs, tell us what happened here: https://pip.pypa.io/surveys/backtracking\n",
            "INFO: pip is looking at multiple versions of itsdangerous to determine which version is compatible with other requirements. This could take a while.\n",
            "INFO: pip is looking at multiple versions of chardet to determine which version is compatible with other requirements. This could take a while.\n",
            "Collecting chardet==3.0.4\n",
            "  Downloading chardet-3.0.4-py2.py3-none-any.whl (133 kB)\n",
            "\u001b[K     |████████████████████████████████| 133 kB 73.6 MB/s \n",
            "\u001b[?25hINFO: This is taking longer than usual. You might need to provide the dependency resolver with stricter constraints to reduce runtime. If you want to abort this run, you can press Ctrl + C to do so. To improve how pip performs, tell us what happened here: https://pip.pypa.io/surveys/backtracking\n",
            "INFO: pip is looking at multiple versions of idna to determine which version is compatible with other requirements. This could take a while.\n",
            "INFO: pip is looking at multiple versions of certifi to determine which version is compatible with other requirements. This could take a while.\n",
            "INFO: pip is looking at multiple versions of <Python from Requires-Python> to determine which version is compatible with other requirements. This could take a while.\n",
            "INFO: pip is looking at multiple versions of astroid to determine which version is compatible with other requirements. This could take a while.\n",
            "\u001b[31mERROR: Cannot install -r api/requirements.txt (line 13) and urllib3==1.26.5 because these package versions have conflicting dependencies.\u001b[0m\n",
            "\n",
            "The conflict is caused by:\n",
            "    The user requested urllib3==1.26.5\n",
            "    requests 2.24.0 depends on urllib3!=1.25.0, !=1.25.1, <1.26 and >=1.21.1\n",
            "\n",
            "To fix this you could try to:\n",
            "1. loosen the range of package versions you've specified\n",
            "2. remove package versions to allow pip attempt to solve the dependency conflict\n",
            "\n",
            "\u001b[31mERROR: ResolutionImpossible: for help visit https://pip.pypa.io/en/latest/user_guide/#fixing-conflicting-dependencies\u001b[0m\n"
          ],
          "name": "stdout"
        }
      ]
    },
    {
      "cell_type": "code",
      "metadata": {
        "colab": {
          "base_uri": "https://localhost:8080/"
        },
        "id": "l1giMuNueMkm",
        "outputId": "91540c24-9869-4a9e-cd31-1270c2a34c5b"
      },
      "source": [
        "from api import GPT, Example, set_openai_key\n",
        "\n",
        "openai.FineTune.list() "
      ],
      "execution_count": null,
      "outputs": [
        {
          "output_type": "execute_result",
          "data": {
            "text/plain": [
              "<OpenAIObject list at 0x7fe5f823f470> JSON: {\n",
              "  \"data\": [\n",
              "    {\n",
              "      \"created_at\": 1629811713,\n",
              "      \"fine_tuned_model\": null,\n",
              "      \"hyperparams\": {\n",
              "        \"batch_size\": 4,\n",
              "        \"learning_rate_multiplier\": 0.1,\n",
              "        \"n_epochs\": 4,\n",
              "        \"prompt_loss_weight\": 0.1,\n",
              "        \"use_packing\": null\n",
              "      },\n",
              "      \"id\": \"ft-lOERwDyjGa9cmRvxhLXySZ5D\",\n",
              "      \"model\": \"curie\",\n",
              "      \"object\": \"fine-tune\",\n",
              "      \"organization_id\": \"org-NicIj9rmhuLJOc1DBnXx7qxt\",\n",
              "      \"result_files\": [],\n",
              "      \"status\": \"cancelled\",\n",
              "      \"training_files\": [\n",
              "        {\n",
              "          \"bytes\": 1060865,\n",
              "          \"created_at\": 1629811712,\n",
              "          \"filename\": \"final_openapi_prepared.jsonl\",\n",
              "          \"id\": \"file-GHHymTfcgTHF20js4oAW5j3q\",\n",
              "          \"model\": null,\n",
              "          \"object\": \"file\",\n",
              "          \"purpose\": \"fine-tune\",\n",
              "          \"status\": \"processed\",\n",
              "          \"status_details\": null\n",
              "        }\n",
              "      ],\n",
              "      \"updated_at\": 1629811859,\n",
              "      \"user_id\": \"user-QNr4sK9WekrFyXJTw6jB2HWl\",\n",
              "      \"validation_files\": []\n",
              "    },\n",
              "    {\n",
              "      \"created_at\": 1629811961,\n",
              "      \"fine_tuned_model\": \"curie:ft-user-qnr4sk9wekrfyxjtw6jb2hwl-2021-08-24-13-46-43\",\n",
              "      \"hyperparams\": {\n",
              "        \"batch_size\": 4,\n",
              "        \"learning_rate_multiplier\": 0.1,\n",
              "        \"n_epochs\": 4,\n",
              "        \"prompt_loss_weight\": 0.1,\n",
              "        \"use_packing\": null\n",
              "      },\n",
              "      \"id\": \"ft-FO81hx5GgjsZ6OGPlVk1TpVK\",\n",
              "      \"model\": \"curie\",\n",
              "      \"object\": \"fine-tune\",\n",
              "      \"organization_id\": \"org-NicIj9rmhuLJOc1DBnXx7qxt\",\n",
              "      \"result_files\": [\n",
              "        {\n",
              "          \"bytes\": 18609,\n",
              "          \"created_at\": 1629812807,\n",
              "          \"filename\": \"compiled_results.csv\",\n",
              "          \"id\": \"file-BHwhdUqGoK2kVf2Ho3DgqhLJ\",\n",
              "          \"model\": null,\n",
              "          \"object\": \"file\",\n",
              "          \"purpose\": \"fine-tune-results\",\n",
              "          \"status\": \"processed\",\n",
              "          \"status_details\": null\n",
              "        }\n",
              "      ],\n",
              "      \"status\": \"succeeded\",\n",
              "      \"training_files\": [\n",
              "        {\n",
              "          \"bytes\": 1060865,\n",
              "          \"created_at\": 1629811712,\n",
              "          \"filename\": \"final_openapi_prepared.jsonl\",\n",
              "          \"id\": \"file-GHHymTfcgTHF20js4oAW5j3q\",\n",
              "          \"model\": null,\n",
              "          \"object\": \"file\",\n",
              "          \"purpose\": \"fine-tune\",\n",
              "          \"status\": \"processed\",\n",
              "          \"status_details\": null\n",
              "        }\n",
              "      ],\n",
              "      \"updated_at\": 1629812810,\n",
              "      \"user_id\": \"user-QNr4sK9WekrFyXJTw6jB2HWl\",\n",
              "      \"validation_files\": []\n",
              "    }\n",
              "  ],\n",
              "  \"object\": \"list\"\n",
              "}"
            ]
          },
          "metadata": {},
          "execution_count": 7
        }
      ]
    },
    {
      "cell_type": "code",
      "metadata": {
        "id": "7H_Mr3b0eP_2"
      },
      "source": [
        "run = openai.Completion.create(\n",
        "  model=\"curie:ft-user-qnr4sk9wekrfyxjtw6jb2hwl-2021-08-24-13-46-43\",      # 모델명 입력\n",
        "  prompt=\"피부 미용,\",     # 원하는 텍스트 입력\n",
        "  temperature=0.5,      # 디폴트 1. 0에 가까울수록 정제된 문장, 높아질수록 창의적 문장\n",
        "  max_tokens=50,       # 최대 2048토큰까지\n",
        "  n = 5                 # 결과물 개수 (토큰 사용량과 연관이 큼)\n",
        ")\n"
      ],
      "execution_count": null,
      "outputs": []
    },
    {
      "cell_type": "code",
      "metadata": {
        "colab": {
          "base_uri": "https://localhost:8080/"
        },
        "id": "VlqRPgetes3f",
        "outputId": "3eb6f68d-b285-4be0-c081-7ca3320a5ced"
      },
      "source": [
        "output = [run.choices[0]['text'], run.choices[1]['text'], run.choices[2]['text'], run.choices[3]['text'], run.choices[4]['text']]\n",
        "for i in range(5) :\n",
        "  print(output[i])\n",
        "  print('='*30)\n",
        "# print(output[0])\n",
        "# print(output[1])\n",
        "# print(output[2])\n",
        "# print(output[3])\n",
        "# print(output[4])"
      ],
      "execution_count": null,
      "outputs": [
        {
          "output_type": "stream",
          "text": [
            " 미용업 사람을 위한 스타일을 만나다 공유하다\n",
            "==============================\n",
            " 대한민국 모든 순간을 색다르게 편안하게 \n",
            "==============================\n",
            " 생활의 문을 열다 기업 제공업 미용의 정석 \n",
            "==============================\n",
            " 국민을 생각합니다 국민을 생각합니다 국민\n",
            "==============================\n",
            " 미용 기술로 다시 맑음 푹 메이크업 피부\n",
            "==============================\n"
          ],
          "name": "stdout"
        }
      ]
    },
    {
      "cell_type": "code",
      "metadata": {
        "id": "mdlMaaoTev6k"
      },
      "source": [],
      "execution_count": null,
      "outputs": []
    },
    {
      "cell_type": "code",
      "metadata": {
        "id": "VeB93QdRek5t"
      },
      "source": [],
      "execution_count": null,
      "outputs": []
    }
  ]
}